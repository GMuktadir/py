{
 "cells": [
  {
   "cell_type": "code",
   "execution_count": null,
   "id": "040adb4f-819d-4be7-80f3-de7590a29ec4",
   "metadata": {},
   "outputs": [],
   "source": [
    "a=int(input(\"Enter an integer number to check Negative or positive:\"))\n",
    "if a<0:\n",
    "    print(\"Negative\")\n",
    "elif a>0:\n",
    "    print(\"Positive\")\n",
    "else:\n",
    "    print(\"Zero\")\n",
    "    "
   ]
  }
 ],
 "metadata": {
  "kernelspec": {
   "display_name": "Python 3",
   "language": "python",
   "name": "python3"
  },
  "language_info": {
   "codemirror_mode": {
    "name": "ipython",
    "version": 3
   },
   "file_extension": ".py",
   "mimetype": "text/x-python",
   "name": "python",
   "nbconvert_exporter": "python",
   "pygments_lexer": "ipython3",
   "version": "3.8.5"
  }
 },
 "nbformat": 4,
 "nbformat_minor": 5
}
