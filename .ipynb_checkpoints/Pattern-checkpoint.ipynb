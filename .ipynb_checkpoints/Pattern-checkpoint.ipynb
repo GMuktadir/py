{
 "cells": [
  {
   "cell_type": "markdown",
   "id": "6e57f00c-274e-4ffb-9206-959cc0741955",
   "metadata": {},
   "source": [
    "Pattern \n",
    "1\n",
    "22\n",
    "333\n",
    "4444\n",
    "55555"
   ]
  },
  {
   "cell_type": "code",
   "execution_count": 11,
   "id": "10d08a42-020c-4f13-950c-9af230fa77c1",
   "metadata": {},
   "outputs": [
    {
     "name": "stdout",
     "output_type": "stream",
     "text": [
      "\n",
      "\n",
      "1\n",
      "\n",
      "22\n",
      "\n",
      "333\n",
      "\n",
      "4444\n",
      "\n",
      "55555\n",
      "\n"
     ]
    }
   ],
   "source": [
    "n=5\n",
    "for i in range(n+1):\n",
    "    for j in range(i):\n",
    "        print(i,end=\"\")\n",
    "    print(\"\\n\")"
   ]
  },
  {
   "cell_type": "code",
   "execution_count": 9,
   "id": "aaae0e54-7ef1-43ed-8ac4-9c1748dea2e6",
   "metadata": {},
   "outputs": [
    {
     "name": "stdout",
     "output_type": "stream",
     "text": [
      "0\n",
      "1\n",
      "2\n",
      "3\n",
      "4\n"
     ]
    }
   ],
   "source": [
    "n=5\n",
    "for i in range(n):\n",
    "    print(i)"
   ]
  },
  {
   "cell_type": "code",
   "execution_count": 12,
   "id": "eb9ae1f0-2b09-4514-9b20-434a964adf3a",
   "metadata": {},
   "outputs": [
    {
     "name": "stdout",
     "output_type": "stream",
     "text": [
      "\n",
      "\n",
      "2\n",
      "\n",
      "33\n",
      "\n",
      "444\n",
      "\n",
      "5555\n",
      "\n"
     ]
    }
   ],
   "source": [
    "n=5\n",
    "for i in range(1,n+1):\n",
    "    for j in range(1,i+1):    #column\n",
    "        print(\"#\",end=\"\")\n",
    "    print(\"\\n\")"
   ]
  }
 ],
 "metadata": {
  "kernelspec": {
   "display_name": "Python 3",
   "language": "python",
   "name": "python3"
  },
  "language_info": {
   "codemirror_mode": {
    "name": "ipython",
    "version": 3
   },
   "file_extension": ".py",
   "mimetype": "text/x-python",
   "name": "python",
   "nbconvert_exporter": "python",
   "pygments_lexer": "ipython3",
   "version": "3.8.5"
  }
 },
 "nbformat": 4,
 "nbformat_minor": 5
}
