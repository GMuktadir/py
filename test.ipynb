{
 "cells": [
  {
   "cell_type": "code",
   "execution_count": 21,
   "id": "697f4ff2-08c1-40dc-9c71-264de414286d",
   "metadata": {
    "collapsed": true,
    "jupyter": {
     "outputs_hidden": true
    },
    "tags": []
   },
   "outputs": [
    {
     "name": "stdout",
     "output_type": "stream",
     "text": [
      "Bangladeshi's"
     ]
    }
   ],
   "source": [
    "st=\"Bangladeshi's\"\n",
    "for i in range(len(st)):\n",
    "    print(st[i],end='') # end='' remove newLine from output\n"
   ]
  },
  {
   "cell_type": "code",
   "execution_count": 24,
   "id": "e4a1f46b-d2fe-4dea-84fa-e6e118ae7179",
   "metadata": {},
   "outputs": [
    {
     "name": "stdout",
     "output_type": "stream",
     "text": [
      "ldsi\n"
     ]
    }
   ],
   "source": [
    "st2=\"Bangladeshisourmotherland\"\n",
    "print(st2[4:12:2]) # strng slice [start:stop:step]"
   ]
  },
  {
   "cell_type": "code",
   "execution_count": 6,
   "id": "58f0d12e-1058-496f-a5e0-088af6be89d2",
   "metadata": {},
   "outputs": [
    {
     "data": {
      "text/plain": [
       "'HelOW'"
      ]
     },
     "execution_count": 6,
     "metadata": {},
     "output_type": "execute_result"
    }
   ],
   "source": [
    "st='Hello'\n",
    "st[:-2]+'OW'"
   ]
  },
  {
   "cell_type": "code",
   "execution_count": 8,
   "id": "5fe98d37-17d7-493d-a616-3a07c3e71194",
   "metadata": {},
   "outputs": [
    {
     "name": "stdout",
     "output_type": "stream",
     "text": [
      "34\n"
     ]
    }
   ],
   "source": [
    "a='3'+'4' #it is not number\n",
    "print(a)\n"
   ]
  },
  {
   "cell_type": "code",
   "execution_count": 27,
   "id": "00bc2281-38da-4d02-ad0a-297af16ddcb5",
   "metadata": {},
   "outputs": [
    {
     "name": "stdout",
     "output_type": "stream",
     "text": [
      "lower(): software engineer\n",
      "upper(): SOFTWARE ENGINEER\n",
      "Split: ['Software', 'Engineer']\n"
     ]
    }
   ],
   "source": [
    "st3=\"Software Engineer\"\n",
    "print(\"lower():\",st3.lower())\n",
    "print(\"upper():\",st3.upper())\n",
    "print(\"Split:\",st3.split())"
   ]
  }
 ],
 "metadata": {
  "kernelspec": {
   "display_name": "Python 3",
   "language": "python",
   "name": "python3"
  },
  "language_info": {
   "codemirror_mode": {
    "name": "ipython",
    "version": 3
   },
   "file_extension": ".py",
   "mimetype": "text/x-python",
   "name": "python",
   "nbconvert_exporter": "python",
   "pygments_lexer": "ipython3",
   "version": "3.8.5"
  }
 },
 "nbformat": 4,
 "nbformat_minor": 5
}
