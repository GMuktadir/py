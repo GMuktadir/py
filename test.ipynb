{
 "cells": [
  {
   "cell_type": "code",
   "execution_count": 21,
   "id": "697f4ff2-08c1-40dc-9c71-264de414286d",
   "metadata": {
    "collapsed": true,
    "jupyter": {
     "outputs_hidden": true
    },
    "tags": []
   },
   "outputs": [
    {
     "name": "stdout",
     "output_type": "stream",
     "text": [
      "Bangladeshi's"
     ]
    }
   ],
   "source": [
    "st=\"Bangladeshi's\"\n",
    "for i in range(len(st)):\n",
    "    print(st[i],end='') # end='' remove newLine from output\n"
   ]
  },
  {
   "cell_type": "code",
   "execution_count": 24,
   "id": "e4a1f46b-d2fe-4dea-84fa-e6e118ae7179",
   "metadata": {},
   "outputs": [
    {
     "name": "stdout",
     "output_type": "stream",
     "text": [
      "ldsi\n"
     ]
    }
   ],
   "source": [
    "st2=\"Bangladeshisourmotherland\"\n",
    "print(st2[4:12:2]) # strng slice [start:stop:step]"
   ]
  }
 ],
 "metadata": {
  "kernelspec": {
   "display_name": "Python 3",
   "language": "python",
   "name": "python3"
  },
  "language_info": {
   "codemirror_mode": {
    "name": "ipython",
    "version": 3
   },
   "file_extension": ".py",
   "mimetype": "text/x-python",
   "name": "python",
   "nbconvert_exporter": "python",
   "pygments_lexer": "ipython3",
   "version": "3.8.5"
  }
 },
 "nbformat": 4,
 "nbformat_minor": 5
}
