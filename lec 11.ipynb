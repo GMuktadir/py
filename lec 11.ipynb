{
 "cells": [
  {
   "cell_type": "code",
   "execution_count": 7,
   "id": "391ac301-38e7-4669-bb43-477809b8cb5a",
   "metadata": {},
   "outputs": [
    {
     "name": "stdout",
     "output_type": "stream",
     "text": [
      "StarApple\n"
     ]
    }
   ],
   "source": [
    "fruit=[\"Mango\",\"Banana\",\"Jackfruit\",\"Black Berry\",\"StarApple\"]\n",
    "print(fruit[-1]) "
   ]
  },
  {
   "cell_type": "code",
   "execution_count": 13,
   "id": "290649f3-655a-4f03-a8f5-04ce529c21ac",
   "metadata": {},
   "outputs": [
    {
     "name": "stdout",
     "output_type": "stream",
     "text": [
      "<class 'bool'>\n"
     ]
    }
   ],
   "source": [
    "list=[\"Laltu\",True,1.2,6]\n",
    "print(type(list[1]))"
   ]
  },
  {
   "cell_type": "code",
   "execution_count": 15,
   "id": "aa5516e5-bd50-4d30-982d-d2c1d96ca9ed",
   "metadata": {},
   "outputs": [
    {
     "name": "stdout",
     "output_type": "stream",
     "text": [
      "['Laltu', False, False, True, 1.2, 6]\n"
     ]
    }
   ],
   "source": [
    "list.insert(1,False)\n",
    "print(list)"
   ]
  },
  {
   "cell_type": "code",
   "execution_count": 19,
   "id": "e83c2ec6-0adb-4c9b-9ef1-5df1387c1604",
   "metadata": {},
   "outputs": [
    {
     "name": "stdout",
     "output_type": "stream",
     "text": [
      "<class 'str'>\n",
      "from\n",
      "IamfromDhakaBangladesh\n"
     ]
    }
   ],
   "source": [
    "text=\"I am from Dhaka Bangladesh\"\n",
    "li=text.split()\n",
    "print(type(li[2]))\n",
    "print(li[2])\n",
    "t=\"\"\n",
    "text2=t.join(li)\n",
    "print(text2)"
   ]
  },
  {
   "cell_type": "code",
   "execution_count": null,
   "id": "4f6e641f-9324-4eff-be83-064d3729731b",
   "metadata": {},
   "outputs": [],
   "source": []
  }
 ],
 "metadata": {
  "kernelspec": {
   "display_name": "Python 3",
   "language": "python",
   "name": "python3"
  },
  "language_info": {
   "codemirror_mode": {
    "name": "ipython",
    "version": 3
   },
   "file_extension": ".py",
   "mimetype": "text/x-python",
   "name": "python",
   "nbconvert_exporter": "python",
   "pygments_lexer": "ipython3",
   "version": "3.8.5"
  }
 },
 "nbformat": 4,
 "nbformat_minor": 5
}
