{
 "cells": [
  {
   "cell_type": "code",
   "execution_count": 8,
   "id": "9fa9ba48-07cc-4e3d-9bd0-f42914e17f06",
   "metadata": {},
   "outputs": [
    {
     "name": "stdin",
     "output_type": "stream",
     "text": [
      "How many number do you want to input?: 4\n",
      "Enter integer Number[0]: 22\n",
      "Enter integer Number[1]: 35\n",
      "Enter integer Number[2]: 12\n",
      "Enter integer Number[3]: 99\n"
     ]
    },
    {
     "name": "stdout",
     "output_type": "stream",
     "text": [
      "Sorted Value:12,22,35,99,"
     ]
    }
   ],
   "source": [
    "#Coder GM\n",
    "def BubbleSort(arr):\n",
    "    n=len(arr)\n",
    "    for i in range(0,n-1):\n",
    "        for j in range(0,n-i-1):\n",
    "            if arr[j]>arr[j+1]:\n",
    "                temp=arr[j]\n",
    "                arr[j]=arr[j+1]\n",
    "                arr[j+1]=temp\n",
    "                #arr[j],arr[j+1]=arr[j+1],arr[j]\n",
    "    \n",
    "arr=[] #get a blank list it's not an array \n",
    "msg=\"Enter integer Number[{}]:\"\n",
    "n=int(input(\"How many number do you want to input?:\"))\n",
    "for i in range(0,n):\n",
    "    num=int(input(msg.format(i)))\n",
    "    arr.append(num)\n",
    "\n",
    "BubbleSort(arr)\n",
    "print(\"Sorted Value:\",end='')\n",
    "for i in range(0,len(arr)):\n",
    "    print(arr[i],end=',')\n",
    "\n",
    "\n"
   ]
  },
  {
   "cell_type": "code",
   "execution_count": null,
   "id": "21a065e8-29b5-46df-9b30-8ea49f8512b7",
   "metadata": {},
   "outputs": [],
   "source": [
    "#Coder GM\n",
    "arr=[]\n",
    "msg=\"Enter integer Number[{}]:\"\n",
    "n=int(input(\"How many number do you want to input?:\"))\n",
    "for i in range(0,n):\n",
    "    num=int(input(msg.format(i)))\n",
    "    arr.append(num)\n",
    "for g in range(len(arr)):\n",
    "    print(arr[g])"
   ]
  }
 ],
 "metadata": {
  "kernelspec": {
   "display_name": "Python 3",
   "language": "python",
   "name": "python3"
  },
  "language_info": {
   "codemirror_mode": {
    "name": "ipython",
    "version": 3
   },
   "file_extension": ".py",
   "mimetype": "text/x-python",
   "name": "python",
   "nbconvert_exporter": "python",
   "pygments_lexer": "ipython3",
   "version": "3.8.5"
  }
 },
 "nbformat": 4,
 "nbformat_minor": 5
}
