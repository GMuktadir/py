{
 "cells": [
  {
   "cell_type": "code",
   "execution_count": 5,
   "id": "b0a79f3a-47eb-4dc7-b30c-ae820398cfd4",
   "metadata": {},
   "outputs": [
    {
     "name": "stdin",
     "output_type": "stream",
     "text": [
      "Enter number: 7\n"
     ]
    },
    {
     "name": "stdout",
     "output_type": "stream",
     "text": [
      "First 7 Number Fibonacci Series\n",
      "1,1,2,3,5,8,"
     ]
    }
   ],
   "source": [
    "#Coder GM\n",
    "num=int(input(\"Enter number:\"))\n",
    "f1,f2=0,1\n",
    "f=f1+f2\n",
    "c=1\n",
    "msg=\"First {} Number Fibonacci Series\"\n",
    "print(msg.format(num))\n",
    "\n",
    "while c<num:    #focus here\n",
    "    print(f,end=',')\n",
    "    f=f1+f2\n",
    "    f1=f2\n",
    "    f2=f\n",
    "    c=c+1\n"
   ]
  },
  {
   "cell_type": "code",
   "execution_count": 20,
   "id": "ae73a0d0-7a77-4347-8653-76937aa343f6",
   "metadata": {},
   "outputs": [
    {
     "name": "stdin",
     "output_type": "stream",
     "text": [
      "Enter number: 10\n"
     ]
    },
    {
     "name": "stdout",
     "output_type": "stream",
     "text": [
      "Fibonacci Series till 10 \n",
      "1,1,2,3,5,8,"
     ]
    }
   ],
   "source": [
    "#Coder GM\n",
    "num=int(input(\"Enter number:\"))\n",
    "f1,f2=0,1\n",
    "f=f1+f2\n",
    "c=1\n",
    "msg=\"Fibonacci Series till {} \"\n",
    "print(msg.format(num))\n",
    "\n",
    "while f<num:    #focus here\n",
    "    print(f,end=',') \n",
    "    f=f1+f2\n",
    "    f1=f2\n",
    "    f2=f"
   ]
  },
  {
   "cell_type": "code",
   "execution_count": 12,
   "id": "b2c7cf01-b7cc-4f73-8b93-545bdf1285c7",
   "metadata": {},
   "outputs": [
    {
     "name": "stdin",
     "output_type": "stream",
     "text": [
      "Enter number: 6\n"
     ]
    },
    {
     "name": "stdout",
     "output_type": "stream",
     "text": [
      "13\n"
     ]
    }
   ],
   "source": [
    "#Nth Fibonacci number\n",
    "num=int(input(\"Enter number:\"))\n",
    "def fib(n):\n",
    "    if n<=1:\n",
    "        return 1\n",
    "    else:\n",
    "        return fib(n-1)+fib(n-2)\n",
    "print(fib(num))"
   ]
  }
 ],
 "metadata": {
  "kernelspec": {
   "display_name": "Python 3",
   "language": "python",
   "name": "python3"
  },
  "language_info": {
   "codemirror_mode": {
    "name": "ipython",
    "version": 3
   },
   "file_extension": ".py",
   "mimetype": "text/x-python",
   "name": "python",
   "nbconvert_exporter": "python",
   "pygments_lexer": "ipython3",
   "version": "3.8.5"
  }
 },
 "nbformat": 4,
 "nbformat_minor": 5
}
