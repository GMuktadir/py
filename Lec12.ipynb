{
 "cells": [
  {
   "cell_type": "markdown",
   "id": "596b2997-056c-47af-b80a-e284ece649dd",
   "metadata": {},
   "source": [
    "Multidimentional List"
   ]
  },
  {
   "cell_type": "code",
   "execution_count": 4,
   "id": "1189784b-9252-47d7-927c-e5e1b0739fb5",
   "metadata": {},
   "outputs": [
    {
     "name": "stdout",
     "output_type": "stream",
     "text": [
      "Banana\n",
      "Prawn\n",
      "100\n"
     ]
    }
   ],
   "source": [
    "mlist=[[\"Apple\",\"Mango\",\"Banana\"],[\"Hilsa\",\"Prawn\",\"Samon\"],[100,200,300]]\n",
    "print(mlist[0][2])\n",
    "print(mlist[1][1])\n",
    "print(mlist[2][0])"
   ]
  }
 ],
 "metadata": {
  "kernelspec": {
   "display_name": "Python 3",
   "language": "python",
   "name": "python3"
  },
  "language_info": {
   "codemirror_mode": {
    "name": "ipython",
    "version": 3
   },
   "file_extension": ".py",
   "mimetype": "text/x-python",
   "name": "python",
   "nbconvert_exporter": "python",
   "pygments_lexer": "ipython3",
   "version": "3.8.5"
  }
 },
 "nbformat": 4,
 "nbformat_minor": 5
}
