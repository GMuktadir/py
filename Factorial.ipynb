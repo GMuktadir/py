{
 "cells": [
  {
   "cell_type": "code",
   "execution_count": 10,
   "id": "83e9c45d-78b5-4c03-b2e2-26ef7cc0c45c",
   "metadata": {},
   "outputs": [
    {
     "name": "stdin",
     "output_type": "stream",
     "text": [
      "Enter a number: 4\n"
     ]
    },
    {
     "name": "stdout",
     "output_type": "stream",
     "text": [
      "2\n",
      "3\n",
      "4\n",
      "Factorial: 24\n"
     ]
    }
   ],
   "source": [
    "#Coder GM \n",
    "def fact(num):    \n",
    "    fact=1\n",
    "    if num<0:\n",
    "        print(\"Only positive number allowed\")\n",
    "    else:\n",
    "        for i in range(2,num+1):  # Cant start from 0 that why num+1 \n",
    "            print(i)\n",
    "            fact=fact*i\n",
    "    return fact\n",
    "\n",
    "num=int(input(\"Enter a number:\"))\n",
    "print(\"Factorial:\",fact(num))"
   ]
  },
  {
   "cell_type": "code",
   "execution_count": 32,
   "id": "3552214e-2f0c-4494-89e9-3f02ed2dd799",
   "metadata": {},
   "outputs": [
    {
     "name": "stdout",
     "output_type": "stream",
     "text": [
      "==Factorial value\n"
     ]
    },
    {
     "name": "stdin",
     "output_type": "stream",
     "text": [
      "Enter a number for factorial: 10\n"
     ]
    },
    {
     "name": "stdout",
     "output_type": "stream",
     "text": [
      "Factorial of 10! is: 3628800\n"
     ]
    }
   ],
   "source": [
    "#Recursive method factorial\n",
    "def fact(n):\n",
    "    f=1\n",
    "    if n==0 or n==1:\n",
    "        return 1\n",
    "    f=n*fact(n-1)\n",
    "    return f\n",
    "\n",
    "print(\"==Factorial value\")\n",
    "num=int(input(\"Enter a number for factorial:\"))\n",
    "msg=\"Factorial of {}! is:\"\n",
    "print(msg.format(num), fact(num))\n"
   ]
  },
  {
   "cell_type": "code",
   "execution_count": 22,
   "id": "4397bcee-ce1d-4dde-bcb9-49238e95407d",
   "metadata": {},
   "outputs": [
    {
     "name": "stdout",
     "output_type": "stream",
     "text": [
      "0,1,2,3,4,5,6,7,8,9,"
     ]
    }
   ],
   "source": [
    "for i in range(10):\n",
    "    print(i,end=',')"
   ]
  },
  {
   "cell_type": "code",
   "execution_count": 19,
   "id": "21e9d3f5-d11e-44de-bb70-73c86c984cd1",
   "metadata": {},
   "outputs": [
    {
     "name": "stdout",
     "output_type": "stream",
     "text": [
      "0,1,2,3,4,5,6,7,8,9,"
     ]
    }
   ],
   "source": [
    "for i in range(0,10):  #default increment 1\n",
    "    print(i,end=',')"
   ]
  },
  {
   "cell_type": "code",
   "execution_count": 15,
   "id": "a771b9bc-3923-415a-b895-a0f0c9a2ee9d",
   "metadata": {},
   "outputs": [
    {
     "name": "stdout",
     "output_type": "stream",
     "text": [
      "1,2,3,4,5,6,7,8,9,"
     ]
    }
   ],
   "source": [
    "for i in range(1,10):\n",
    "    print(i,end=',')"
   ]
  },
  {
   "cell_type": "code",
   "execution_count": 16,
   "id": "239bf424-8456-4f63-8bbd-32c3d45faa72",
   "metadata": {},
   "outputs": [
    {
     "name": "stdout",
     "output_type": "stream",
     "text": [
      "0,2,4,6,8,"
     ]
    }
   ],
   "source": [
    "for i in range(1,10,2):\n",
    "    print(i,end=',')"
   ]
  },
  {
   "cell_type": "code",
   "execution_count": 20,
   "id": "5642dfdd-b611-4bfe-bf1c-075438eebb7e",
   "metadata": {},
   "outputs": [
    {
     "name": "stdout",
     "output_type": "stream",
     "text": [
      "1,4,7,10,13,16,19,"
     ]
    }
   ],
   "source": [
    "for i in range(1,20,3):\n",
    "    print(i,end=',')"
   ]
  },
  {
   "cell_type": "code",
   "execution_count": null,
   "id": "2402ee2e-8b73-4f15-a563-e16952b2342f",
   "metadata": {},
   "outputs": [],
   "source": []
  }
 ],
 "metadata": {
  "kernelspec": {
   "display_name": "Python 3",
   "language": "python",
   "name": "python3"
  },
  "language_info": {
   "codemirror_mode": {
    "name": "ipython",
    "version": 3
   },
   "file_extension": ".py",
   "mimetype": "text/x-python",
   "name": "python",
   "nbconvert_exporter": "python",
   "pygments_lexer": "ipython3",
   "version": "3.8.5"
  }
 },
 "nbformat": 4,
 "nbformat_minor": 5
}
