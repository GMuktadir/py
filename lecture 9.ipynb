{
 "cells": [
  {
   "cell_type": "markdown",
   "id": "fa6ad419-ee83-4dd7-980e-422792f99f5e",
   "metadata": {},
   "source": [
    "Typecasting"
   ]
  },
  {
   "cell_type": "code",
   "execution_count": 25,
   "id": "8302d86e-ef73-44ff-a776-856a3530890d",
   "metadata": {},
   "outputs": [
    {
     "name": "stdout",
     "output_type": "stream",
     "text": [
      "Length of text: 28\n",
      " arham is a little boy. and \n",
      " ARHAM IS A LITTLE BOY. AND \n",
      "Number of a is:  2\n",
      "Strip white space: Arham is a little boy. And\n",
      "Strip white space: 26\n",
      "Strip Left white space: Arham is a little boy. And \n",
      "Strip Left white space: 27\n",
      "Strip right white space:  Arham is a little boy. And\n",
      "Strip right white space: 27\n"
     ]
    }
   ],
   "source": [
    "text=\" Arham is a little boy. And \"\n",
    "print(\"Length of text:\",len(text))\n",
    "print(text.lower())\n",
    "print(text.upper())\n",
    "print(\"Number of a is: \",text.count('a'))\n",
    "print(\"Strip white space:\",text.strip())\n",
    "print(\"Strip white space:\",len(text.strip()))\n",
    "\n",
    "print(\"Strip Left white space:\",text.lstrip())\n",
    "print(\"Strip Left white space:\",len(text.lstrip()))\n",
    "\n",
    "print(\"Strip right white space:\",text.rstrip())\n",
    "print(\"Strip right white space:\",len(text.rstrip()))"
   ]
  },
  {
   "cell_type": "markdown",
   "id": "1c3b0b07-f19a-4833-9e21-c80a6f8c32b0",
   "metadata": {},
   "source": [
    "checking "
   ]
  },
  {
   "cell_type": "code",
   "execution_count": 52,
   "id": "a076dec5-dcaa-493d-87ea-b48edac8e3e2",
   "metadata": {},
   "outputs": [
    {
     "name": "stdout",
     "output_type": "stream",
     "text": [
      "True\n",
      "True\n",
      "True\n",
      "2²\n",
      "Is numeric ?: True\n"
     ]
    }
   ],
   "source": [
    "#text with space not working\n",
    "\n",
    "tt=\"manimortal3\"\n",
    "txt=\"manmortal\"\n",
    "d=\"3435\"\n",
    "n='2345'\n",
    "print(tt.isalnum())\n",
    "print(txt.isalpha())\n",
    "\n",
    "print(d.isdigit())\n",
    "\n",
    "print(\"Is numeric ?:\",n.isnumeric())\n"
   ]
  },
  {
   "cell_type": "markdown",
   "id": "650f8078-aa67-4bd6-9a2c-aa86952e6f5d",
   "metadata": {},
   "source": [
    "Converting"
   ]
  },
  {
   "cell_type": "code",
   "execution_count": 69,
   "id": "ab9f348f-cbfd-4f42-b3d7-d29e5c3cdec5",
   "metadata": {},
   "outputs": [
    {
     "name": "stdout",
     "output_type": "stream",
     "text": [
      "<class 'str'>\n",
      "<class 'float'>\n",
      "<class 'int'>\n",
      "<class 'str'>\n"
     ]
    }
   ],
   "source": [
    "tr=\"3.14156\"\n",
    "print(type(tr))\n",
    "tr2=float(tr)\n",
    "print(type(tr2))\n",
    "tr3=int(tr2)\n",
    "print(type(tr3))\n",
    "tr4=str(tr3)\n",
    "print(type(tr4))\n",
    "\n",
    "\n"
   ]
  }
 ],
 "metadata": {
  "kernelspec": {
   "display_name": "Python 3",
   "language": "python",
   "name": "python3"
  },
  "language_info": {
   "codemirror_mode": {
    "name": "ipython",
    "version": 3
   },
   "file_extension": ".py",
   "mimetype": "text/x-python",
   "name": "python",
   "nbconvert_exporter": "python",
   "pygments_lexer": "ipython3",
   "version": "3.8.5"
  }
 },
 "nbformat": 4,
 "nbformat_minor": 5
}
